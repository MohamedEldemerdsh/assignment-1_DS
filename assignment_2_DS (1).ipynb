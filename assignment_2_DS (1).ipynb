{
  "cells": [
    {
      "cell_type": "markdown",
      "metadata": {
        "id": "vYXz1frML5Yn"
      },
      "source": [
        "## Write a Numpy program to compute the multiplication of two given matrixes"
      ]
    },
    {
      "cell_type": "code",
      "execution_count": null,
      "metadata": {
        "id": "mlyPHt-tL5Yp"
      },
      "outputs": [],
      "source": [
        "import numpy as np"
      ]
    },
    {
      "cell_type": "code",
      "execution_count": 10,
      "metadata": {
        "id": "bwllvdydL5Yo"
      },
      "outputs": [],
      "source": [
        "def mat_mult(*arrays):\n",
        "  return np.multiply(*arrays)\n"
      ]
    },
    {
      "cell_type": "code",
      "source": [
        "a1=np.array([[5,10,15],[20,25,30],[35,40,45]])\n",
        "a2=np.array([[1,1,5],[20,5,30],[5,40,4]])\n",
        "mat_mult(a1,a2)"
      ],
      "metadata": {
        "colab": {
          "base_uri": "https://localhost:8080/"
        },
        "id": "hm5vOVqfRcxp",
        "outputId": "34bb2b3d-ae3c-40f5-949c-07e083ea29b1"
      },
      "execution_count": 11,
      "outputs": [
        {
          "output_type": "execute_result",
          "data": {
            "text/plain": [
              "array([[   5,   10,   75],\n",
              "       [ 400,  125,  900],\n",
              "       [ 175, 1600,  180]])"
            ]
          },
          "metadata": {},
          "execution_count": 11
        }
      ]
    },
    {
      "cell_type": "markdown",
      "metadata": {
        "id": "eXU0wtdnL5Yp"
      },
      "source": [
        "## Write a NumPy program to compute the determinant of a given square array"
      ]
    },
    {
      "cell_type": "code",
      "execution_count": null,
      "metadata": {
        "id": "Me7ttyKBL5Yp"
      },
      "outputs": [],
      "source": [
        "def det_mat(arrays):\n",
        "  return np.linalg.det(arrays)"
      ]
    },
    {
      "cell_type": "code",
      "execution_count": null,
      "metadata": {
        "colab": {
          "base_uri": "https://localhost:8080/"
        },
        "id": "9hl69qhRL5Yp",
        "outputId": "1913a105-0b37-435b-eff9-7a0d23dbad56"
      },
      "outputs": [
        {
          "output_type": "execute_result",
          "data": {
            "text/plain": [
              "0.0"
            ]
          },
          "metadata": {},
          "execution_count": 29
        }
      ],
      "source": [
        "x=np.array([[1,2],\n",
        "            [2,4]])\n",
        "det_mat(x)"
      ]
    },
    {
      "cell_type": "markdown",
      "metadata": {
        "id": "IgudStbLL5Yq"
      },
      "source": [
        "## Write a NumPy program to compute the cross product of two given vectors"
      ]
    },
    {
      "cell_type": "code",
      "execution_count": 21,
      "metadata": {
        "id": "VV0h4kvfL5Yq"
      },
      "outputs": [],
      "source": [
        "def matrix_cross(*arrays):\n",
        "  return np.linalg.matrix_cross(*arrays)"
      ]
    },
    {
      "cell_type": "code",
      "source": [
        "a0=np.array([[1,2,3]])"
      ],
      "metadata": {
        "id": "B_cqBj6wfyOZ"
      },
      "execution_count": null,
      "outputs": []
    },
    {
      "cell_type": "code",
      "execution_count": null,
      "metadata": {
        "id": "HbSxvnzLL5Yq"
      },
      "outputs": [],
      "source": [
        ""
      ]
    },
    {
      "cell_type": "markdown",
      "metadata": {
        "id": "aH-WCgWLL5Yr"
      },
      "source": [
        "## Write a NumPy program to compute the condition number of a given matrix"
      ]
    },
    {
      "cell_type": "code",
      "execution_count": 2,
      "metadata": {
        "id": "e3ZbdzRnL5Yr"
      },
      "outputs": [],
      "source": [
        "def mat_cond(array):\n",
        "  return np.linalg.cond(array)"
      ]
    },
    {
      "cell_type": "code",
      "execution_count": 5,
      "metadata": {
        "id": "PDjIWOo9L5Yr",
        "colab": {
          "base_uri": "https://localhost:8080/"
        },
        "outputId": "5b909e46-bbb2-4ecb-f1df-6251b8f2c624"
      },
      "outputs": [
        {
          "output_type": "execute_result",
          "data": {
            "text/plain": [
              "3.433629113047435"
            ]
          },
          "metadata": {},
          "execution_count": 5
        }
      ],
      "source": [
        "a = np.array([[1, 5, -6], [10, 1, 0], [1,20, 1]])\n",
        "mat_cond(a)"
      ]
    },
    {
      "cell_type": "markdown",
      "metadata": {
        "id": "bgQMoRCCL5Yr"
      },
      "source": [
        "## Write a NumPy program to compute the inverse of a given matrix"
      ]
    },
    {
      "cell_type": "code",
      "execution_count": 7,
      "metadata": {
        "id": "dFzvBlGiL5Yr"
      },
      "outputs": [],
      "source": [
        "def mat_inv(a1):\n",
        "  return np.linalg.inv(a1)  "
      ]
    },
    {
      "cell_type": "code",
      "source": [
        "mat_inv(a)"
      ],
      "metadata": {
        "colab": {
          "base_uri": "https://localhost:8080/"
        },
        "id": "nLkLMfQzUgo_",
        "outputId": "f4d5eb6d-488f-47eb-8d1c-48afaf87cc92"
      },
      "execution_count": 20,
      "outputs": [
        {
          "output_type": "execute_result",
          "data": {
            "text/plain": [
              "array([[-0.00080451,  0.10056315, -0.00482703],\n",
              "       [ 0.00804505, -0.00563154,  0.04827031],\n",
              "       [-0.16009654,  0.01206758,  0.03942076]])"
            ]
          },
          "metadata": {},
          "execution_count": 20
        }
      ]
    }
  ],
  "metadata": {
    "kernelspec": {
      "display_name": "Python 3",
      "language": "python",
      "name": "python3"
    },
    "language_info": {
      "codemirror_mode": {
        "name": "ipython",
        "version": 3
      },
      "file_extension": ".py",
      "mimetype": "text/x-python",
      "name": "python",
      "nbconvert_exporter": "python",
      "pygments_lexer": "ipython3",
      "version": "3.7.3"
    },
    "colab": {
      "name": "assignment 2 DS.ipynb",
      "provenance": [],
      "collapsed_sections": []
    }
  },
  "nbformat": 4,
  "nbformat_minor": 0
}